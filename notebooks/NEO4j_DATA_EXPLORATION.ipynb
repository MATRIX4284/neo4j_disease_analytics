{
 "cells": [
  {
   "cell_type": "code",
   "execution_count": 1,
   "id": "86f1229b",
   "metadata": {},
   "outputs": [],
   "source": [
    "from neo4j import GraphDatabase\n",
    "driver = GraphDatabase.driver(uri=\"bolt://localhost\",auth=(\"neo4j\",\"neo4j\"))\n",
    "                              #OR \"bolt://localhost:7673\"\n",
    "                              #OR the cloud url\n",
    "import nxneo4j as nx\n",
    "G = nx.Graph(driver)"
   ]
  },
  {
   "cell_type": "code",
   "execution_count": 2,
   "id": "0ca40383",
   "metadata": {},
   "outputs": [
    {
     "data": {
      "text/plain": [
       "<nxneo4j.graph.Graph at 0x7f24482e77c0>"
      ]
     },
     "execution_count": 2,
     "metadata": {},
     "output_type": "execute_result"
    }
   ],
   "source": [
    "G"
   ]
  },
  {
   "cell_type": "code",
   "execution_count": 3,
   "id": "2dc642fa",
   "metadata": {},
   "outputs": [
    {
     "name": "stderr",
     "output_type": "stream",
     "text": [
      "/home/matrix4284/mambaforge-pypy3/envs/neo4j/lib/python3.8/site-packages/networkx/readwrite/graphml.py:1031: UserWarning: No key type for id ko. Using string\n",
      "  warnings.warn(f\"No key type for id {attr_id}. Using string\")\n",
      "/home/matrix4284/mambaforge-pypy3/envs/neo4j/lib/python3.8/site-packages/networkx/readwrite/graphml.py:1031: UserWarning: No key type for id disease_category. Using string\n",
      "  warnings.warn(f\"No key type for id {attr_id}. Using string\")\n",
      "/home/matrix4284/mambaforge-pypy3/envs/neo4j/lib/python3.8/site-packages/networkx/readwrite/graphml.py:1031: UserWarning: No key type for id name. Using string\n",
      "  warnings.warn(f\"No key type for id {attr_id}. Using string\")\n",
      "/home/matrix4284/mambaforge-pypy3/envs/neo4j/lib/python3.8/site-packages/networkx/readwrite/graphml.py:1031: UserWarning: No key type for id description. Using string\n",
      "  warnings.warn(f\"No key type for id {attr_id}. Using string\")\n",
      "/home/matrix4284/mambaforge-pypy3/envs/neo4j/lib/python3.8/site-packages/networkx/readwrite/graphml.py:1031: UserWarning: No key type for id taxonomy. Using string\n",
      "  warnings.warn(f\"No key type for id {attr_id}. Using string\")\n",
      "/home/matrix4284/mambaforge-pypy3/envs/neo4j/lib/python3.8/site-packages/networkx/readwrite/graphml.py:1031: UserWarning: No key type for id labels. Using string\n",
      "  warnings.warn(f\"No key type for id {attr_id}. Using string\")\n",
      "/home/matrix4284/mambaforge-pypy3/envs/neo4j/lib/python3.8/site-packages/networkx/readwrite/graphml.py:1031: UserWarning: No key type for id label. Using string\n",
      "  warnings.warn(f\"No key type for id {attr_id}. Using string\")\n"
     ]
    }
   ],
   "source": [
    "import networkx as ntx\n",
    "\n",
    "NG=ntx.read_graphml('/home/matrix4284/neo4j/import/disease.graphml')"
   ]
  },
  {
   "cell_type": "code",
   "execution_count": 13,
   "id": "46f6e985",
   "metadata": {},
   "outputs": [],
   "source": [
    "from pyvis.network import Network\n",
    "import networkx as nx\n",
    "\n",
    "\n",
    "nt = Network('20000px', '20000px')\n",
    "# populates the nodes and edges data structures\n",
    "nt.from_nx(NG)\n",
    "nt.show('nx.html')\n",
    "\n"
   ]
  },
  {
   "cell_type": "code",
   "execution_count": 15,
   "id": "dd7ac8be",
   "metadata": {},
   "outputs": [
    {
     "data": {
      "text/plain": [
       "[]"
      ]
     },
     "execution_count": 15,
     "metadata": {},
     "output_type": "execute_result"
    }
   ],
   "source": [
    "H = NG.subgraph(['cancer'])\n",
    "list(H.edges)"
   ]
  },
  {
   "cell_type": "code",
   "execution_count": null,
   "id": "b53b479a",
   "metadata": {},
   "outputs": [],
   "source": []
  }
 ],
 "metadata": {
  "kernelspec": {
   "display_name": "neo4j",
   "language": "python",
   "name": "neo4j"
  },
  "language_info": {
   "codemirror_mode": {
    "name": "ipython",
    "version": 3
   },
   "file_extension": ".py",
   "mimetype": "text/x-python",
   "name": "python",
   "nbconvert_exporter": "python",
   "pygments_lexer": "ipython3",
   "version": "3.8.15"
  }
 },
 "nbformat": 4,
 "nbformat_minor": 5
}
