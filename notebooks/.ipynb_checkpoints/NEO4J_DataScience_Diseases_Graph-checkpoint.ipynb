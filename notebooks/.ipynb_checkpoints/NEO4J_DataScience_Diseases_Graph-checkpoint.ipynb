{
 "cells": [
  {
   "cell_type": "code",
   "execution_count": 47,
   "id": "6a3a323c",
   "metadata": {},
   "outputs": [
    {
     "name": "stdout",
     "output_type": "stream",
     "text": [
      "2.2.6\n"
     ]
    }
   ],
   "source": [
    "from graphdatascience import GraphDataScience\n",
    "\n",
    "# Use Neo4j URI and credentials according to your setup\n",
    "# NEO4J_URI could look similar to \"bolt://my-server.neo4j.io:7687\"\n",
    "gds = GraphDataScience(\"bolt://localhost\", auth=(\"neo4j\",\"neo4j\"))\n",
    "\n",
    "\n",
    "# Check the installed GDS version on the server\n",
    "print(gds.version())\n",
    "assert gds.version()"
   ]
  },
  {
   "cell_type": "code",
   "execution_count": 49,
   "id": "5682de64",
   "metadata": {},
   "outputs": [
    {
     "data": {
      "text/plain": [
       "(Graph({'graphName': 'disease-graph-2', 'nodeCount': 4176, 'relationshipCount': 5960, 'database': 'neo4j', 'configuration': {'relationshipQuery': 'MATCH (n)--(m) RETURN id(n) AS source, id(m) AS target', 'jobId': 'ff0c4827-1908-4993-80d8-afacf186ef07', 'creationTime': neo4j.time.DateTime(2023, 1, 2, 17, 10, 50, 828536253, tzinfo=<StaticTzInfo 'Etc/UTC'>), 'validateRelationships': True, 'nodeQuery': 'MATCH (n) RETURN id(n) AS id', 'sudo': True, 'readConcurrency': 4, 'parameters': []}, 'schema': {'graphProperties': {}, 'relationships': {'__ALL__': {}}, 'nodes': {'__ALL__': {}}}, 'memoryUsage': '1428 KiB'}),\n",
       " nodeQuery                                 MATCH (n) RETURN id(n) AS id\n",
       " relationshipQuery    MATCH (n)--(m) RETURN id(n) AS source, id(m) A...\n",
       " graphName                                              disease-graph-2\n",
       " nodeCount                                                         4176\n",
       " relationshipCount                                                 5960\n",
       " projectMillis                                                       16\n",
       " Name: 0, dtype: object)"
      ]
     },
     "execution_count": 49,
     "metadata": {},
     "output_type": "execute_result"
    }
   ],
   "source": [
    "gds.graph.project.cypher(\n",
    "    'disease-graph-2',\n",
    "    'MATCH (n) RETURN id(n) AS id',\n",
    "    'MATCH (n)--(m) RETURN id(n) AS source, id(m) AS target')"
   ]
  },
  {
   "cell_type": "code",
   "execution_count": 58,
   "id": "d07efa0f",
   "metadata": {},
   "outputs": [
    {
     "data": {
      "application/vnd.jupyter.widget-view+json": {
       "model_id": "49dffbeefcae44a6a5accfca2d77b65b",
       "version_major": 2,
       "version_minor": 0
      },
      "text/plain": [
       "Louvain:   0%|          | 0/100 [00:00<?, ?%/s]"
      ]
     },
     "metadata": {},
     "output_type": "display_data"
    }
   ],
   "source": [
    "louvain_stats=gds.louvain.stats(gds.graph.get('disease-graph-2'))\n",
    "\n"
   ]
  },
  {
   "cell_type": "code",
   "execution_count": 60,
   "id": "94dd1d94",
   "metadata": {},
   "outputs": [
    {
     "data": {
      "text/plain": [
       "2121"
      ]
     },
     "execution_count": 60,
     "metadata": {},
     "output_type": "execute_result"
    }
   ],
   "source": [
    "louvain_stats.communityCount"
   ]
  },
  {
   "cell_type": "code",
   "execution_count": 62,
   "id": "03688b22",
   "metadata": {},
   "outputs": [],
   "source": [
    "louvain_stream=gds.louvain.stream(gds.graph.get('disease-graph-2'))"
   ]
  },
  {
   "cell_type": "code",
   "execution_count": 64,
   "id": "02747b91",
   "metadata": {},
   "outputs": [
    {
     "data": {
      "text/plain": [
       "pandas.core.frame.DataFrame"
      ]
     },
     "execution_count": 64,
     "metadata": {},
     "output_type": "execute_result"
    }
   ],
   "source": [
    "type(louvain_stream)"
   ]
  },
  {
   "cell_type": "code",
   "execution_count": 65,
   "id": "f843a2d1",
   "metadata": {},
   "outputs": [],
   "source": [
    "louvain_stream.to_csv('disease-graph.csv')"
   ]
  },
  {
   "cell_type": "code",
   "execution_count": null,
   "id": "949d1dfe",
   "metadata": {},
   "outputs": [],
   "source": []
  }
 ],
 "metadata": {
  "kernelspec": {
   "display_name": "neo4j",
   "language": "python",
   "name": "neo4j"
  },
  "language_info": {
   "codemirror_mode": {
    "name": "ipython",
    "version": 3
   },
   "file_extension": ".py",
   "mimetype": "text/x-python",
   "name": "python",
   "nbconvert_exporter": "python",
   "pygments_lexer": "ipython3",
   "version": "3.8.15"
  }
 },
 "nbformat": 4,
 "nbformat_minor": 5
}
