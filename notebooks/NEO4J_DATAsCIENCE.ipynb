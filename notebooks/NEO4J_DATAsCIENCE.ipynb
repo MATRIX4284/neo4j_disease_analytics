{
 "cells": [
  {
   "cell_type": "code",
   "execution_count": 4,
   "id": "6a3a323c",
   "metadata": {},
   "outputs": [
    {
     "name": "stdout",
     "output_type": "stream",
     "text": [
      "2.2.5\n"
     ]
    }
   ],
   "source": [
    "from graphdatascience import GraphDataScience\n",
    "\n",
    "# Use Neo4j URI and credentials according to your setup\n",
    "# NEO4J_URI could look similar to \"bolt://my-server.neo4j.io:7687\"\n",
    "gds = GraphDataScience(\"bolt://localhost\", auth=(\"neo4j\",\"neo4j\"))\n",
    "\n",
    "\n",
    "# Check the installed GDS version on the server\n",
    "print(gds.version())\n",
    "assert gds.version()"
   ]
  },
  {
   "cell_type": "code",
   "execution_count": 5,
   "id": "9bdec886",
   "metadata": {},
   "outputs": [
    {
     "name": "stderr",
     "output_type": "stream",
     "text": [
      "Loading: 100%|███████████████████████████████████████████████████████████████████████████████████████████████████████████████████████████████████████████████████████████████████████████████████████████████████████████████████████████████| 100.0/100 [00:00<00:00, 9375.68%/s]\n"
     ]
    }
   ],
   "source": [
    "# Create a minimal example graph\n",
    "gds.run_cypher(\n",
    "  \"\"\"\n",
    "  CREATE\n",
    "  (m: City {name: \"Malmö\"}),\n",
    "  (l: City {name: \"London\"}),\n",
    "  (s: City {name: \"San Mateo\"}),\n",
    "  (m)-[:FLY_TO]->(l),\n",
    "  (l)-[:FLY_TO]->(m),\n",
    "  (l)-[:FLY_TO]->(s),\n",
    "  (s)-[:RUN_TO]->(l)\n",
    "  \"\"\"\n",
    ")\n",
    "\n",
    "# Project the graph into the GDS Graph Catalog\n",
    "# We call the object representing the projected graph `G_office`\n",
    "G_office2, project_result = gds.graph.project(\"neo4j-offices2\", \"City\", \"FLY_TO\")\n",
    "\n"
   ]
  },
  {
   "cell_type": "code",
   "execution_count": 6,
   "id": "6aede7ff",
   "metadata": {},
   "outputs": [],
   "source": [
    "# Run the mutate mode of the PageRank algorithm\n",
    "mutate_result = gds.pageRank.mutate(G_office2, tolerance=0.5, mutateProperty=\"rank\")\n",
    "\n",
    "# We can inspect the node properties of our projected graph directly\n",
    "# via the graph object and see that indeed the new property exists\n",
    "assert G_office2.node_properties(\"City\") == [\"rank\"]"
   ]
  },
  {
   "cell_type": "code",
   "execution_count": 7,
   "id": "dc7e6612",
   "metadata": {},
   "outputs": [
    {
     "data": {
      "text/plain": [
       "mutateMillis                                                              0\n",
       "nodePropertiesWritten                                                     3\n",
       "ranIterations                                                             1\n",
       "didConverge                                                            True\n",
       "centralityDistribution    {'p99': 0.2774991989135742, 'min': 0.213749885...\n",
       "postProcessingMillis                                                     20\n",
       "preProcessingMillis                                                       0\n",
       "computeMillis                                                             6\n",
       "configuration             {'jobId': '2550ef70-ba30-4f06-9acf-88b0a769e4e...\n",
       "Name: 0, dtype: object"
      ]
     },
     "execution_count": 7,
     "metadata": {},
     "output_type": "execute_result"
    }
   ],
   "source": [
    "mutate_result"
   ]
  },
  {
   "cell_type": "code",
   "execution_count": 8,
   "id": "b18d6775",
   "metadata": {},
   "outputs": [],
   "source": [
    "gds.run_cypher(\n",
    "  \"\"\"\n",
    "  CREATE\n",
    "    (a:City {name: \"New York City\", settled: 1624}),\n",
    "    (b:City {name: \"Philadelphia\", settled: 1682}),\n",
    "    (c:City:Capital {name: \"Washington D.C.\", settled: 1790}),\n",
    "    (d:City {name: \"Baltimore\"}),\n",
    "    (e:City {name: \"Atlantic City\"}),\n",
    "    (f:City {name: \"Boston\"}),\n",
    "\n",
    "    (a)-[:ROAD {cost: 50}]->(b),\n",
    "    (a)-[:ROAD {cost: 50}]->(c),\n",
    "    (a)-[:ROAD {cost: 100}]->(d),\n",
    "    (b)-[:ROAD {cost: 40}]->(d),\n",
    "    (c)-[:ROAD {cost: 40}]->(d),\n",
    "    (c)-[:ROAD {cost: 80}]->(e),\n",
    "    (d)-[:ROAD {cost: 30}]->(e),\n",
    "    (d)-[:ROAD {cost: 80}]->(f),\n",
    "    (e)-[:ROAD {cost: 40}]->(f);\n",
    "  \"\"\"\n",
    ")\n",
    "G, project_result = gds.graph.project(\"road_graph\", \"City\", {\"ROAD\": {\"properties\": [\"cost\"]}})\n",
    "\n",
    "assert G.relationship_count() == 9"
   ]
  },
  {
   "cell_type": "code",
   "execution_count": 9,
   "id": "adb33a06",
   "metadata": {},
   "outputs": [],
   "source": [
    "louvain_result = gds.louvain.mutate(\n",
    "    G,                            #  Graph object\n",
    "    maxIterations=5,              #  Configuration parameters\n",
    "    mutateProperty=\"community\"\n",
    ")\n",
    "assert louvain_result[\"communityCount\"] > 0\n",
    "\n",
    "fastrp_result = gds.fastRP.write(\n",
    "    G,                                #  Graph object\n",
    "    featureProperties=[\"community\"],  #  Configuration parameters\n",
    "    embeddingDimension=256,\n",
    "    propertyRatio=0.3,\n",
    "    relationshipWeightProperty=\"cost\",\n",
    "    writeProperty=\"embedding\"\n",
    ")\n",
    "assert fastrp_result[\"nodePropertiesWritten\"] == G.node_count()"
   ]
  },
  {
   "cell_type": "code",
   "execution_count": 10,
   "id": "6ac27b0f",
   "metadata": {},
   "outputs": [
    {
     "data": {
      "text/plain": [
       "nodeCount                                                                9\n",
       "nodePropertiesWritten                                                    9\n",
       "preProcessingMillis                                                      0\n",
       "computeMillis                                                            7\n",
       "writeMillis                                                             11\n",
       "configuration            {'writeConcurrency': 4, 'nodeSelfInfluence': 0...\n",
       "Name: 0, dtype: object"
      ]
     },
     "execution_count": 10,
     "metadata": {},
     "output_type": "execute_result"
    }
   ],
   "source": [
    "fastrp_result"
   ]
  },
  {
   "cell_type": "code",
   "execution_count": 11,
   "id": "807373e9",
   "metadata": {},
   "outputs": [],
   "source": [
    "source_id = gds.find_node_id([\"City\"], {\"name\": \"New York City\"})\n",
    "target_id = gds.find_node_id([\"City\"], {\"name\": \"Boston\"})\n",
    "\n",
    "result = gds.shortestPath.dijkstra.stream(\n",
    "    G,\n",
    "    sourceNode=source_id,\n",
    "    targetNode=target_id,\n",
    "    relationshipWeightProperty=\"cost\"\n",
    ")\n",
    "assert result[\"totalCost\"][0] == 160"
   ]
  },
  {
   "cell_type": "code",
   "execution_count": 12,
   "id": "1cd1a00e",
   "metadata": {},
   "outputs": [
    {
     "data": {
      "text/html": [
       "<div>\n",
       "<style scoped>\n",
       "    .dataframe tbody tr th:only-of-type {\n",
       "        vertical-align: middle;\n",
       "    }\n",
       "\n",
       "    .dataframe tbody tr th {\n",
       "        vertical-align: top;\n",
       "    }\n",
       "\n",
       "    .dataframe thead th {\n",
       "        text-align: right;\n",
       "    }\n",
       "</style>\n",
       "<table border=\"1\" class=\"dataframe\">\n",
       "  <thead>\n",
       "    <tr style=\"text-align: right;\">\n",
       "      <th></th>\n",
       "      <th>index</th>\n",
       "      <th>sourceNode</th>\n",
       "      <th>targetNode</th>\n",
       "      <th>totalCost</th>\n",
       "      <th>nodeIds</th>\n",
       "      <th>costs</th>\n",
       "      <th>path</th>\n",
       "    </tr>\n",
       "  </thead>\n",
       "  <tbody>\n",
       "    <tr>\n",
       "      <th>0</th>\n",
       "      <td>0</td>\n",
       "      <td>3</td>\n",
       "      <td>8</td>\n",
       "      <td>160.0</td>\n",
       "      <td>[3, 4, 6, 7, 8]</td>\n",
       "      <td>[0.0, 50.0, 90.0, 120.0, 160.0]</td>\n",
       "      <td>((cost), (cost), (cost), (cost))</td>\n",
       "    </tr>\n",
       "  </tbody>\n",
       "</table>\n",
       "</div>"
      ],
      "text/plain": [
       "   index  sourceNode  targetNode  totalCost          nodeIds  \\\n",
       "0      0           3           8      160.0  [3, 4, 6, 7, 8]   \n",
       "\n",
       "                             costs                              path  \n",
       "0  [0.0, 50.0, 90.0, 120.0, 160.0]  ((cost), (cost), (cost), (cost))  "
      ]
     },
     "execution_count": 12,
     "metadata": {},
     "output_type": "execute_result"
    }
   ],
   "source": [
    "result"
   ]
  },
  {
   "cell_type": "code",
   "execution_count": 13,
   "id": "32a95007",
   "metadata": {},
   "outputs": [],
   "source": [
    "node1 = gds.find_node_id([\"City\"], {\"name\": \"Boston\"})\n",
    "node2 = gds.find_node_id([\"City\"], {\"name\": \"Atlantic City\"})\n",
    "\n",
    "score = gds.alpha.linkprediction.adamicAdar(node1, node2)\n",
    "#assert round(score, 2) == 0.62\n"
   ]
  },
  {
   "cell_type": "code",
   "execution_count": 14,
   "id": "99d66a33",
   "metadata": {},
   "outputs": [
    {
     "data": {
      "text/plain": [
       "0.6213349345596119"
      ]
     },
     "execution_count": 14,
     "metadata": {},
     "output_type": "execute_result"
    }
   ],
   "source": [
    "score"
   ]
  },
  {
   "cell_type": "code",
   "execution_count": null,
   "id": "03688b22",
   "metadata": {},
   "outputs": [],
   "source": []
  }
 ],
 "metadata": {
  "kernelspec": {
   "display_name": "neo4j",
   "language": "python",
   "name": "neo4j"
  },
  "language_info": {
   "codemirror_mode": {
    "name": "ipython",
    "version": 3
   },
   "file_extension": ".py",
   "mimetype": "text/x-python",
   "name": "python",
   "nbconvert_exporter": "python",
   "pygments_lexer": "ipython3",
   "version": "3.8.15"
  }
 },
 "nbformat": 4,
 "nbformat_minor": 5
}
